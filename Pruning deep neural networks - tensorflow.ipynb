{
 "cells": [
  {
   "cell_type": "markdown",
   "metadata": {},
   "source": [
    "# Pruning deep neural networks - tensorflow\n",
    "### Alex Fang"
   ]
  },
  {
   "cell_type": "code",
   "execution_count": 4,
   "metadata": {},
   "outputs": [],
   "source": [
    "import tensorflow as tf\n",
    "import numpy as np\n",
    "import pandas as pd\n",
    "import matplotlib.pyplot as plt  "
   ]
  },
  {
   "cell_type": "markdown",
   "metadata": {},
   "source": [
    "### Generate simulation data###"
   ]
  },
  {
   "cell_type": "code",
   "execution_count": 27,
   "metadata": {},
   "outputs": [
    {
     "data": {
      "text/plain": [
       "<matplotlib.collections.PathCollection at 0x1b252ef5a90>"
      ]
     },
     "execution_count": 27,
     "metadata": {},
     "output_type": "execute_result"
    },
    {
     "data": {
      "image/png": "[encoded data removed]",
      "text/plain": [
       "<Figure size 432x288 with 1 Axes>"
      ]
     },
     "metadata": {
      "needs_background": "light"
     },
     "output_type": "display_data"
    }
   ],
   "source": [
    "#simulation data========================\n",
    "x = np.linspace(-1, 1, 10000)[:, np.newaxis]\n",
    "noise = np.random.normal(0, 0.2, size=x.shape)\n",
    "y = np.power(x,2) + noise  \n",
    "mask=np.array([1,0,1,1,0])\n",
    "plt.scatter(x,y)"
   ]
  },
  {
   "cell_type": "markdown",
   "metadata": {},
   "source": [
    "### Fully connected layer###"
   ]
  },
  {
   "cell_type": "code",
   "execution_count": 17,
   "metadata": {},
   "outputs": [],
   "source": [
    "#define one layer\n",
    "def dense_layer1(inputs,name,units,w,mask,activation=None,use_bias=True,kernel_initializer=None):\n",
    "        \"\"\"Mimics tf.dense_layer but masks weights and uses presets as necessary.\"\"\"\n",
    "        # If there is a preset for this layer, use it.\n",
    "        kernel_initializer = tf.constant_initializer(w)\n",
    "        # Create the weights.\n",
    "        weights = tf.get_variable(\n",
    "            name=name + '_w',\n",
    "            shape=[inputs.shape[1], units],\n",
    "            initializer=kernel_initializer)\n",
    "    \n",
    "        # Mask the layer as necessary.\n",
    "        mask_initializer = tf.constant_initializer(mask)\n",
    "        mask = tf.get_variable(\n",
    "              name=name + '_m',\n",
    "              shape=[inputs.shape[1], units],\n",
    "              initializer=mask_initializer,\n",
    "              trainable=False)\n",
    "        weights = tf.multiply(weights, mask)\n",
    "        # Compute the output.\n",
    "        output = tf.matmul(inputs, weights)\n",
    "    \n",
    "        # Add bias if applicable.\n",
    "        if use_bias:\n",
    "          bias = tf.get_variable(\n",
    "              name=name + '_b', shape=[units], initializer=tf.zeros_initializer())\n",
    "          output += bias\n",
    "    \n",
    "        # Activate.\n",
    "        if activation:\n",
    "          return activation(output),weights\n",
    "        else:\n",
    "          return output,weights"
   ]
  },
  {
   "cell_type": "code",
   "execution_count": 40,
   "metadata": {},
   "outputs": [],
   "source": [
    "#define one layer\n",
    "def dense_layer2(inputs,name,units,w,mask,activation=None,use_bias=True,kernel_initializer=None):\n",
    "        \"\"\"Mimics tf.dense_layer but masks weights and uses presets as necessary.\"\"\"\n",
    "        # If there is a preset for this layer, use it.\n",
    "        kernel_initializer = tf.constant_initializer(w)\n",
    "        # Create the weights.\n",
    "        weights = tf.get_variable(\n",
    "            name=name + '_w',\n",
    "            shape=[inputs.shape[1], units],\n",
    "            initializer=kernel_initializer)\n",
    "    \n",
    "        # Mask the layer as necessary.\n",
    "        mask_initializer = tf.constant_initializer(mask)\n",
    "        mask = tf.get_variable(\n",
    "              name=name + '_m',\n",
    "              shape=[inputs.shape[1], units],\n",
    "              initializer=mask_initializer,\n",
    "              trainable=False)\n",
    "        weights2 = tf.multiply(weights, mask)\n",
    "        # Compute the output.\n",
    "        output = tf.matmul(inputs, weights2)\n",
    "    \n",
    "        # Add bias if applicable.\n",
    "        if use_bias:\n",
    "          bias = tf.get_variable(\n",
    "              name=name + '_b', shape=[units], initializer=tf.zeros_initializer())\n",
    "          output += bias\n",
    "    \n",
    "        # Activate.\n",
    "        if activation:\n",
    "          return activation(output),weights\n",
    "        else:\n",
    "          return output,weights"
   ]
  },
  {
   "cell_type": "markdown",
   "metadata": {},
   "source": [
    "### Experiment1，Experiment2，use 'mask' to stop the back propagation ###"
   ]
  },
  {
   "cell_type": "code",
   "execution_count": 29,
   "metadata": {},
   "outputs": [
    {
     "name": "stdout",
     "output_type": "stream",
     "text": [
      "[[0.7655226 0.        0.7596624 0.9823524 0.       ]]\n",
      "[[0.7621332  0.         0.75474787 0.97082907 0.        ]]\n",
      "[[0.74887574 0.         0.7401517  0.9740777  0.        ]]\n",
      "[[0.7452088  0.         0.7353616  0.97423935 0.        ]]\n"
     ]
    }
   ],
   "source": [
    "#experiment1\n",
    "tf.reset_default_graph()\n",
    "tf_x = tf.placeholder(tf.float32, [None,x.shape[1]])\n",
    "tf_y = tf.placeholder(tf.int32, [None,1]) \n",
    "tf_is_training = tf.placeholder(tf.bool, None)\n",
    "l1,w1=dense_layer1(tf_x,'l1', 5, np.ones((x.shape[1],5)),mask,activation=tf.nn.relu)\n",
    "output=tf.layers.dense(l1,1)\n",
    "loss = tf.losses.mean_squared_error(tf_y, output)\n",
    "optimizer = tf.train.GradientDescentOptimizer(learning_rate=0.5)\n",
    "train_op = optimizer.minimize(loss)\n",
    "sess = tf.Session() \n",
    "sess.run(tf.global_variables_initializer()) \n",
    "for step in range(20):\n",
    "    # train and net output\n",
    "    _, loss_, pred,w1_= sess.run([train_op, loss, output,w1], {tf_x: x.reshape(-1,1), tf_y: y.reshape(-1,1)})      \n",
    "    #print(loss_)\n",
    "    if (step-1)%5==0:\n",
    "        print(w1_)"
   ]
  },
  {
   "cell_type": "code",
   "execution_count": 30,
   "metadata": {},
   "outputs": [
    {
     "name": "stdout",
     "output_type": "stream",
     "text": [
      "[[0.98648834 1.         1.0061736  1.0049639  1.        ]]\n",
      "[[0.963877  1.        1.01828   1.0149359 1.       ]]\n",
      "[[0.9588267 1.        1.0212048 1.0173718 1.       ]]\n",
      "[[0.9524769 1.        1.0249845 1.0205351 1.       ]]\n"
     ]
    }
   ],
   "source": [
    "#experiment2\n",
    "tf.reset_default_graph()\n",
    "tf_x = tf.placeholder(tf.float32, [None,x.shape[1]])\n",
    "tf_y = tf.placeholder(tf.int32, [None,1]) \n",
    "tf_is_training = tf.placeholder(tf.bool, None)\n",
    "l1,w1=dense_layer2(tf_x,'l1', 5, np.ones((x.shape[1],5)),mask,activation=tf.nn.relu)\n",
    "output=tf.layers.dense(l1,1)\n",
    "loss = tf.losses.mean_squared_error(tf_y, output)\n",
    "optimizer = tf.train.GradientDescentOptimizer(learning_rate=0.5)\n",
    "train_op = optimizer.minimize(loss)\n",
    "sess = tf.Session() \n",
    "sess.run(tf.global_variables_initializer()) \n",
    "for step in range(20):\n",
    "    # train and net output\n",
    "    _, loss_, pred,w1_= sess.run([train_op, loss, output,w1], {tf_x: x.reshape(-1,1), tf_y: y.reshape(-1,1)})      \n",
    "    #print(loss_)\n",
    "    if (step-1)%5==0:\n",
    "        print(w1_)"
   ]
  },
  {
   "cell_type": "markdown",
   "metadata": {},
   "source": [
    "### About tf.stop_gradient()###"
   ]
  },
  {
   "cell_type": "code",
   "execution_count": 39,
   "metadata": {},
   "outputs": [
    {
     "name": "stdout",
     "output_type": "stream",
     "text": [
      "Sth wrong in bp process of C and a,b. \n",
      "========================\n",
      "[1.0, 1.0]\n"
     ]
    }
   ],
   "source": [
    "#example\n",
    "tf.reset_default_graph()\n",
    "\n",
    "a = tf.Variable(1.0)\n",
    "b = tf.Variable(1.0)\n",
    " \n",
    "c = tf.add(a, b)\n",
    " \n",
    "c_stoped = tf.stop_gradient(c)\n",
    " \n",
    "d = tf.add(a, b)\n",
    " \n",
    "e = tf.add(c_stoped, d)\n",
    "\n",
    "gradients_from_c = tf.gradients(c_stoped, xs=[a, b])\n",
    "gradients_from_d = tf.gradients(e, xs=[a, b])\n",
    "\n",
    "with tf.Session() as sess:\n",
    "    tf.global_variables_initializer().run()\n",
    "    try:\n",
    "        print(sess.run(gradients_from_c))\n",
    "    except:\n",
    "        print(\"Sth wrong in bp process of C and a,b. \")\n",
    "    print(\"========================\")\n",
    "    try:\n",
    "        print(sess.run(gradients_from_d))\n",
    "    except:\n",
    "        print(\"Sth wrong in bp process of d and a,b. \")"
   ]
  },
  {
   "cell_type": "code",
   "execution_count": 47,
   "metadata": {},
   "outputs": [
    {
     "name": "stdout",
     "output_type": "stream",
     "text": [
      "[array([[-1.67977959, -1.37421142,  0.75463177, -1.33602353,  1.27111932],\n",
      "       [-0.        , -0.        ,  0.        , -0.        ,  0.        ],\n",
      "       [-1.67977959, -1.37421142,  0.75463177, -1.33602353,  1.27111932],\n",
      "       [-1.67977959, -1.37421142,  0.75463177, -1.33602353,  1.27111932],\n",
      "       [-0.        , -0.        ,  0.        , -0.        ,  0.        ],\n",
      "       [-0.        , -0.        ,  0.        , -0.        ,  0.        ],\n",
      "       [-1.67977959, -1.37421142,  0.75463177, -1.33602353,  1.27111932],\n",
      "       [-1.67977959, -1.37421142,  0.75463177, -1.33602353,  1.27111932],\n",
      "       [-0.        , -0.        ,  0.        , -0.        ,  0.        ],\n",
      "       [-1.67977959, -1.37421142,  0.75463177, -1.33602353,  1.27111932]])]\n",
      "[array([[-1.67977959, -1.37421142,  0.75463177, -1.33602353,  1.27111932],\n",
      "       [-1.67977959, -1.37421142,  0.75463177, -1.33602353,  1.27111932],\n",
      "       [-1.67977959, -1.37421142,  0.75463177, -1.33602353,  1.27111932],\n",
      "       [-1.67977959, -1.37421142,  0.75463177, -1.33602353,  1.27111932],\n",
      "       [-1.67977959, -1.37421142,  0.75463177, -1.33602353,  1.27111932],\n",
      "       [-1.67977959, -1.37421142,  0.75463177, -1.33602353,  1.27111932],\n",
      "       [-1.67977959, -1.37421142,  0.75463177, -1.33602353,  1.27111932],\n",
      "       [-1.67977959, -1.37421142,  0.75463177, -1.33602353,  1.27111932],\n",
      "       [-1.67977959, -1.37421142,  0.75463177, -1.33602353,  1.27111932],\n",
      "       [-1.67977959, -1.37421142,  0.75463177, -1.33602353,  1.27111932]])]\n",
      "[[1. 1. 1. 1. 1.]\n",
      " [1. 1. 1. 1. 1.]\n",
      " [1. 1. 1. 1. 1.]\n",
      " [1. 1. 1. 1. 1.]\n",
      " [1. 1. 1. 1. 1.]\n",
      " [1. 1. 1. 1. 1.]\n",
      " [1. 1. 1. 1. 1.]\n",
      " [1. 1. 1. 1. 1.]\n",
      " [1. 1. 1. 1. 1.]\n",
      " [1. 1. 1. 1. 1.]]\n"
     ]
    }
   ],
   "source": [
    "#experiment3\n",
    "tf.reset_default_graph()\n",
    "\n",
    "def entry_stop_gradients(target, mask):\n",
    "\n",
    "    mask_h = tf.abs(mask-1)\n",
    "    return tf.stop_gradient(mask_h * target) + mask * target\n",
    " \n",
    "mask = np.array([1., 0, 1, 1, 0, 0, 1, 1, 0, 1])\n",
    "weights = tf.constant(np.ones([10, 5]))\n",
    " \n",
    "matrix = entry_stop_gradients(weights, tf.expand_dims(mask,1))\n",
    " \n",
    "parm = np.random.randn(5, 1)\n",
    "para = tf.constant(parm)\n",
    " \n",
    "loss = tf.reduce_sum(tf.matmul(matrix, para))\n",
    "grad1 = tf.gradients(loss, weights)\n",
    "grad2 = tf.gradients(loss, matrix)\n",
    "\n",
    "\n",
    "with tf.Session() as sess:\n",
    "    g1,g2=sess.run([grad1, grad2])\n",
    "    matrix_=sess.run(matrix)\n",
    "    print(g1)\n",
    "    print(g2)\n",
    "    print(matrix_)\n",
    "    "
   ]
  },
  {
   "cell_type": "markdown",
   "metadata": {},
   "source": [
    "* To sum up, we can use mask to prune the network and stop the pruned parameter to get back propagation. However, if we want some part of the parameter not to be back propagated（these para is larger than 0）, we can use tf.stop_gradient() to meet this demand."
   ]
  }
 ],
 "metadata": {
  "kernelspec": {
   "display_name": "Python 3",
   "language": "python",
   "name": "python3"
  },
  "language_info": {
   "codemirror_mode": {
    "name": "ipython",
    "version": 3
   },
   "file_extension": ".py",
   "mimetype": "text/x-python",
   "name": "python",
   "nbconvert_exporter": "python",
   "pygments_lexer": "ipython3",
   "version": "3.7.3"
  }
 },
 "nbformat": 4,
 "nbformat_minor": 2
}
